{
  "metadata": {
    "kernelspec": {
      "display_name": "Python 3",
      "name": "python3"
    },
    "language_info": {
      "name": "python",
      "version": "3.10.13",
      "mimetype": "text/x-python",
      "codemirror_mode": {
        "name": "ipython",
        "version": 3
      },
      "pygments_lexer": "ipython3",
      "nbconvert_exporter": "python",
      "file_extension": ".py"
    },
    "kaggle": {
      "accelerator": "nvidiaTeslaT4",
      "dataSources": [
        {
          "sourceId": 8478676,
          "sourceType": "datasetVersion",
          "datasetId": 5056815
        }
      ],
      "dockerImageVersionId": 30699,
      "isInternetEnabled": true,
      "language": "python",
      "sourceType": "notebook",
      "isGpuEnabled": true
    },
    "colab": {
      "provenance": [],
      "gpuType": "T4"
    },
    "accelerator": "GPU"
  },
  "nbformat_minor": 0,
  "nbformat": 4,
  "cells": [
    {
      "cell_type": "code",
      "source": [
        "!pip install torch tqdm torchvision pillow albumentations torchaudio opencv-python"
      ],
      "metadata": {
        "colab": {
          "base_uri": "https://localhost:8080/"
        },
        "id": "wXFbdWmfBLJC",
        "outputId": "20336bfa-2de5-49b8-b953-486ce501a8fd"
      },
      "execution_count": 1,
      "outputs": [
        {
          "output_type": "stream",
          "name": "stdout",
          "text": [
            "Requirement already satisfied: torch in /usr/local/lib/python3.10/dist-packages (2.3.0+cu121)\n",
            "Requirement already satisfied: tqdm in /usr/local/lib/python3.10/dist-packages (4.66.4)\n",
            "Requirement already satisfied: torchvision in /usr/local/lib/python3.10/dist-packages (0.18.0+cu121)\n",
            "Requirement already satisfied: pillow in /usr/local/lib/python3.10/dist-packages (9.4.0)\n",
            "Requirement already satisfied: albumentations in /usr/local/lib/python3.10/dist-packages (1.3.1)\n",
            "Requirement already satisfied: torchaudio in /usr/local/lib/python3.10/dist-packages (2.3.0+cu121)\n",
            "Requirement already satisfied: opencv-python in /usr/local/lib/python3.10/dist-packages (4.8.0.76)\n",
            "Requirement already satisfied: filelock in /usr/local/lib/python3.10/dist-packages (from torch) (3.14.0)\n",
            "Requirement already satisfied: typing-extensions>=4.8.0 in /usr/local/lib/python3.10/dist-packages (from torch) (4.11.0)\n",
            "Requirement already satisfied: sympy in /usr/local/lib/python3.10/dist-packages (from torch) (1.12)\n",
            "Requirement already satisfied: networkx in /usr/local/lib/python3.10/dist-packages (from torch) (3.3)\n",
            "Requirement already satisfied: jinja2 in /usr/local/lib/python3.10/dist-packages (from torch) (3.1.4)\n",
            "Requirement already satisfied: fsspec in /usr/local/lib/python3.10/dist-packages (from torch) (2023.6.0)\n",
            "Requirement already satisfied: nvidia-cuda-nvrtc-cu12==12.1.105 in /usr/local/lib/python3.10/dist-packages (from torch) (12.1.105)\n",
            "Requirement already satisfied: nvidia-cuda-runtime-cu12==12.1.105 in /usr/local/lib/python3.10/dist-packages (from torch) (12.1.105)\n",
            "Requirement already satisfied: nvidia-cuda-cupti-cu12==12.1.105 in /usr/local/lib/python3.10/dist-packages (from torch) (12.1.105)\n",
            "Requirement already satisfied: nvidia-cudnn-cu12==8.9.2.26 in /usr/local/lib/python3.10/dist-packages (from torch) (8.9.2.26)\n",
            "Requirement already satisfied: nvidia-cublas-cu12==12.1.3.1 in /usr/local/lib/python3.10/dist-packages (from torch) (12.1.3.1)\n",
            "Requirement already satisfied: nvidia-cufft-cu12==11.0.2.54 in /usr/local/lib/python3.10/dist-packages (from torch) (11.0.2.54)\n",
            "Requirement already satisfied: nvidia-curand-cu12==10.3.2.106 in /usr/local/lib/python3.10/dist-packages (from torch) (10.3.2.106)\n",
            "Requirement already satisfied: nvidia-cusolver-cu12==11.4.5.107 in /usr/local/lib/python3.10/dist-packages (from torch) (11.4.5.107)\n",
            "Requirement already satisfied: nvidia-cusparse-cu12==12.1.0.106 in /usr/local/lib/python3.10/dist-packages (from torch) (12.1.0.106)\n",
            "Requirement already satisfied: nvidia-nccl-cu12==2.20.5 in /usr/local/lib/python3.10/dist-packages (from torch) (2.20.5)\n",
            "Requirement already satisfied: nvidia-nvtx-cu12==12.1.105 in /usr/local/lib/python3.10/dist-packages (from torch) (12.1.105)\n",
            "Requirement already satisfied: triton==2.3.0 in /usr/local/lib/python3.10/dist-packages (from torch) (2.3.0)\n",
            "Requirement already satisfied: nvidia-nvjitlink-cu12 in /usr/local/lib/python3.10/dist-packages (from nvidia-cusolver-cu12==11.4.5.107->torch) (12.5.40)\n",
            "Requirement already satisfied: numpy in /usr/local/lib/python3.10/dist-packages (from torchvision) (1.25.2)\n",
            "Requirement already satisfied: scipy>=1.1.0 in /usr/local/lib/python3.10/dist-packages (from albumentations) (1.11.4)\n",
            "Requirement already satisfied: scikit-image>=0.16.1 in /usr/local/lib/python3.10/dist-packages (from albumentations) (0.19.3)\n",
            "Requirement already satisfied: PyYAML in /usr/local/lib/python3.10/dist-packages (from albumentations) (6.0.1)\n",
            "Requirement already satisfied: qudida>=0.0.4 in /usr/local/lib/python3.10/dist-packages (from albumentations) (0.0.4)\n",
            "Requirement already satisfied: opencv-python-headless>=4.1.1 in /usr/local/lib/python3.10/dist-packages (from albumentations) (4.9.0.80)\n",
            "Requirement already satisfied: scikit-learn>=0.19.1 in /usr/local/lib/python3.10/dist-packages (from qudida>=0.0.4->albumentations) (1.2.2)\n",
            "Requirement already satisfied: imageio>=2.4.1 in /usr/local/lib/python3.10/dist-packages (from scikit-image>=0.16.1->albumentations) (2.31.6)\n",
            "Requirement already satisfied: tifffile>=2019.7.26 in /usr/local/lib/python3.10/dist-packages (from scikit-image>=0.16.1->albumentations) (2024.5.22)\n",
            "Requirement already satisfied: PyWavelets>=1.1.1 in /usr/local/lib/python3.10/dist-packages (from scikit-image>=0.16.1->albumentations) (1.6.0)\n",
            "Requirement already satisfied: packaging>=20.0 in /usr/local/lib/python3.10/dist-packages (from scikit-image>=0.16.1->albumentations) (24.0)\n",
            "Requirement already satisfied: MarkupSafe>=2.0 in /usr/local/lib/python3.10/dist-packages (from jinja2->torch) (2.1.5)\n",
            "Requirement already satisfied: mpmath>=0.19 in /usr/local/lib/python3.10/dist-packages (from sympy->torch) (1.3.0)\n",
            "Requirement already satisfied: joblib>=1.1.1 in /usr/local/lib/python3.10/dist-packages (from scikit-learn>=0.19.1->qudida>=0.0.4->albumentations) (1.4.2)\n",
            "Requirement already satisfied: threadpoolctl>=2.0.0 in /usr/local/lib/python3.10/dist-packages (from scikit-learn>=0.19.1->qudida>=0.0.4->albumentations) (3.5.0)\n"
          ]
        }
      ]
    },
    {
      "cell_type": "code",
      "source": [
        "from google.colab import drive\n",
        "drive.mount('/content/drive')"
      ],
      "metadata": {
        "colab": {
          "base_uri": "https://localhost:8080/"
        },
        "id": "4I_VV7anA_sW",
        "outputId": "3d99a535-18b4-49ed-86fa-f4e1aade9327"
      },
      "execution_count": 11,
      "outputs": [
        {
          "output_type": "stream",
          "name": "stdout",
          "text": [
            "Drive already mounted at /content/drive; to attempt to forcibly remount, call drive.mount(\"/content/drive\", force_remount=True).\n"
          ]
        }
      ]
    },
    {
      "cell_type": "code",
      "source": [
        "import torch\n",
        "from PIL import Image\n",
        "import albumentations as A\n",
        "from albumentations.pytorch import ToTensorV2\n",
        "\n",
        "LOAD_MODEL = True\n",
        "SAVE_MODEL = True\n",
        "CHECKPOINT_GEN = \"/content/drive/MyDrive/gen.pth.tar\"\n",
        "CHECKPOINT_DISC = \"/content/drive/MyDrive/disc.pth.tar\"\n",
        "DEVICE = \"cuda\" if torch.cuda.is_available() else \"cpu\"\n",
        "LEARNING_RATE = 1e-4\n",
        "NUM_EPOCHS = 100\n",
        "BATCH_SIZE = 4\n",
        "NUM_WORKERS = 2\n",
        "HIGH_RES = 600\n",
        "LOW_RES = HIGH_RES // 4\n",
        "IMG_CHANNELS = 3\n",
        "\n",
        "highres_transform = A.Compose(\n",
        "    [\n",
        "        A.Normalize(mean=[0.5, 0.5, 0.5], std=[0.5, 0.5, 0.5]),\n",
        "        ToTensorV2(),\n",
        "    ]\n",
        ")\n",
        "\n",
        "lowres_transform = A.Compose(\n",
        "    [\n",
        "        A.Resize(width=LOW_RES, height=LOW_RES, interpolation=Image.BICUBIC),\n",
        "        A.Normalize(mean=[0, 0, 0], std=[1, 1, 1]),\n",
        "        ToTensorV2(),\n",
        "    ]\n",
        ")\n",
        "\n",
        "both_transforms = A.Compose(\n",
        "    [\n",
        "        A.RandomCrop(width=HIGH_RES, height=HIGH_RES),\n",
        "        A.HorizontalFlip(p=0.5),\n",
        "        A.RandomRotate90(p=0.5),\n",
        "    ]\n",
        ")\n",
        "\n",
        "test_transform = A.Compose(\n",
        "    [\n",
        "        A.RandomCrop(width=LOW_RES, height=LOW_RES),\n",
        "        A.Normalize(mean=[0, 0, 0], std=[1, 1, 1]),\n",
        "        ToTensorV2(),\n",
        "    ]\n",
        ")\n"
      ],
      "metadata": {
        "execution": {
          "iopub.status.busy": "2024-05-28T15:24:58.103793Z",
          "iopub.execute_input": "2024-05-28T15:24:58.104608Z",
          "iopub.status.idle": "2024-05-28T15:24:58.116738Z",
          "shell.execute_reply.started": "2024-05-28T15:24:58.104571Z",
          "shell.execute_reply": "2024-05-28T15:24:58.115757Z"
        },
        "trusted": true,
        "id": "Zg6cXMRMA98H"
      },
      "execution_count": 12,
      "outputs": []
    },
    {
      "cell_type": "code",
      "source": [
        "import torch\n",
        "import torch.nn as nn\n",
        "\n",
        "\n",
        "class conv_block(nn.Module):\n",
        "    def __init__(self, in_channels: int, out_channels: int, discriminator: bool = False, use_act: bool = True, use_bn: bool = True, **kwargs):\n",
        "        super().__init__()\n",
        "        self.use_act = use_act\n",
        "        self.conv = nn.Conv2d(in_channels, out_channels,\n",
        "                              **kwargs, bias=not use_bn)\n",
        "        self.bn = nn.BatchNorm2d(out_channels) if use_bn else nn.Identity()\n",
        "        self.act = nn.LeakyReLU(0.2, inplace=True) if discriminator else nn.PReLU(\n",
        "            num_parameters=out_channels)\n",
        "\n",
        "    def forward(self, x):\n",
        "        return self.act(self.bn(self.conv(x))) if self.use_act else self.bn(self.conv(x))\n",
        "\n",
        "\n",
        "class UpsampleBlock(nn.Module):\n",
        "    def __init__(self, in_channels, scale_factor):\n",
        "        super().__init__()\n",
        "        self.conv = nn.Conv2d(in_channels, in_channels *\n",
        "                              scale_factor**2, 3, 1, 1)\n",
        "        self.ps = nn.PixelShuffle(scale_factor)\n",
        "        self.act = nn.PReLU(num_parameters=in_channels)\n",
        "\n",
        "    def forward(self, x):\n",
        "        return self.act(self.ps(self.conv(x)))\n",
        "\n",
        "\n",
        "class ResidualBlock(nn.Module):\n",
        "    def __init__(self, in_channels):\n",
        "        super().__init__()\n",
        "        self.block1 = conv_block(\n",
        "            in_channels, in_channels, kernel_size=3, stride=1, padding=1)\n",
        "        self.block2 = conv_block(\n",
        "            in_channels, in_channels, kernel_size=3, stride=1, padding=1, use_act=False)\n",
        "\n",
        "    def forward(self, x):\n",
        "        output = self.block1(x)\n",
        "        output = self.block2(output)\n",
        "        return output + x\n",
        "\n",
        "\n",
        "class Generator(nn.Module):\n",
        "    def __init__(self, in_channels=3, num_channels=64, num_blocks=16):\n",
        "        super().__init__()\n",
        "        self.input = conv_block(in_channels, num_channels,\n",
        "                                use_bn=False, kernel_size=9, stride=1, padding=4)\n",
        "        self.residuals = nn.Sequential(\n",
        "            *[ResidualBlock(num_channels) for _ in range(num_blocks)])\n",
        "        self.conv = conv_block(num_channels, num_channels,\n",
        "                               use_act=False, kernel_size=3, stride=1, padding=1)\n",
        "        self.upsamples = nn.Sequential(UpsampleBlock(\n",
        "            num_channels, 2), UpsampleBlock(num_channels, 2))\n",
        "        self.final = nn.Conv2d(num_channels, in_channels,\n",
        "                               kernel_size=9, stride=1, padding=4)\n",
        "\n",
        "    def forward(self, x):\n",
        "        initial = self.input(x)\n",
        "        x = self.residuals(initial)\n",
        "        x = self.conv(x) + initial\n",
        "        x = self.upsamples(x)\n",
        "        return torch.tanh(self.final(x))\n",
        "\n",
        "\n",
        "class Discriminator(nn.Module):\n",
        "    def __init__(self, in_channels=3, features=[64, 64, 128, 128, 256, 256, 512, 512]):\n",
        "        super().__init__()\n",
        "        blocks = []\n",
        "        for idx, feature in enumerate(features):\n",
        "            blocks.append(\n",
        "                conv_block(\n",
        "                    in_channels,\n",
        "                    feature,\n",
        "                    kernel_size=3,\n",
        "                    stride=1 + idx % 2,\n",
        "                    padding=1,\n",
        "                    discriminator=True,\n",
        "                    use_act=True,\n",
        "                    use_bn=False if idx == 0 else True,\n",
        "                )\n",
        "            )\n",
        "            in_channels = feature\n",
        "\n",
        "        self.blocks = nn.Sequential(*blocks)\n",
        "        self.classifier = nn.Sequential(\n",
        "            # make sure the output is what we expect, if the model works properly suppose to do nothing\n",
        "            nn.AdaptiveAvgPool2d((6, 6)),\n",
        "            nn.Flatten(),\n",
        "            nn.Linear(512*6*6, 1024),\n",
        "            nn.LeakyReLU(0.2, inplace=True),\n",
        "            nn.Linear(1024, 1),\n",
        "        )\n",
        "\n",
        "    def forward(self, x):\n",
        "        x = self.blocks(x)\n",
        "        return self.classifier(x)\n",
        "\n",
        "\n",
        "def test():\n",
        "    low_resolution = 24  # 96x96 -> 24x24\n",
        "    with torch.cuda.amp.autocast():\n",
        "        x = torch.randn((5, 3, low_resolution, low_resolution))\n",
        "        gen = Generator()\n",
        "        gen_out = gen(x)\n",
        "        disc = Discriminator()\n",
        "        disc_out = disc(gen_out)\n",
        "\n",
        "        print(gen_out.shape)\n",
        "        print(disc_out.shape)\n",
        "\n",
        "\n",
        "if __name__ == \"__main__\":\n",
        "    test()\n"
      ],
      "metadata": {
        "execution": {
          "iopub.status.busy": "2024-05-28T15:24:59.444665Z",
          "iopub.execute_input": "2024-05-28T15:24:59.445046Z",
          "iopub.status.idle": "2024-05-28T15:25:00.108943Z",
          "shell.execute_reply.started": "2024-05-28T15:24:59.445016Z",
          "shell.execute_reply": "2024-05-28T15:25:00.107874Z"
        },
        "trusted": true,
        "colab": {
          "base_uri": "https://localhost:8080/"
        },
        "id": "qAO2oQbaA98H",
        "outputId": "95b7fd7b-e365-4245-e096-3dea5e326358"
      },
      "execution_count": 13,
      "outputs": [
        {
          "output_type": "stream",
          "name": "stdout",
          "text": [
            "torch.Size([5, 3, 96, 96])\n",
            "torch.Size([5, 1])\n"
          ]
        }
      ]
    },
    {
      "cell_type": "code",
      "source": [
        "import torch\n",
        "import os\n",
        "import numpy as np\n",
        "from PIL import Image\n",
        "from torchvision.utils import save_image\n",
        "\n",
        "\n",
        "def gradient_penalty(critic, real, fake, device):\n",
        "    BATCH_SIZE, C, H, W = real.shape\n",
        "    alpha = torch.rand((BATCH_SIZE, 1, 1, 1)).repeat(1, C, H, W).to(device)\n",
        "    interpolated_images = real * alpha + fake.detach() * (1 - alpha)\n",
        "    interpolated_images.requires_grad_(True)\n",
        "\n",
        "    # Calculate critic scores\n",
        "    mixed_scores = critic(interpolated_images)\n",
        "\n",
        "    # Take the gradient of the scores with respect to the images\n",
        "    gradient = torch.autograd.grad(\n",
        "        inputs=interpolated_images,\n",
        "        outputs=mixed_scores,\n",
        "        grad_outputs=torch.ones_like(mixed_scores),\n",
        "        create_graph=True,\n",
        "        retain_graph=True,\n",
        "    )[0]\n",
        "    gradient = gradient.view(gradient.shape[0], -1)\n",
        "    gradient_norm = gradient.norm(2, dim=1)\n",
        "    gradient_penalty = torch.mean((gradient_norm - 1) ** 2)\n",
        "    return gradient_penalty\n",
        "\n",
        "\n",
        "def save_checkpoint(model, optimizer, filename=\"my_checkpoint.pth.tar\"):\n",
        "    print(\"=> Saving checkpoint\")\n",
        "    checkpoint = {\n",
        "        \"state_dict\": model.state_dict(),\n",
        "        \"optimizer\": optimizer.state_dict(),\n",
        "    }\n",
        "    torch.save(checkpoint, filename)\n",
        "\n",
        "\n",
        "def load_checkpoint(checkpoint_file, model, optimizer, lr):\n",
        "    print(\"=> Loading checkpoint\")\n",
        "    checkpoint = torch.load(checkpoint_file, map_location=DEVICE)\n",
        "    model.load_state_dict(checkpoint[\"state_dict\"])\n",
        "    optimizer.load_state_dict(checkpoint[\"optimizer\"])\n",
        "\n",
        "    # If we don't do this then it will just have learning rate of old checkpoint\n",
        "    # and it will lead to many hours of debugging \\:\n",
        "    for param_group in optimizer.param_groups:\n",
        "        param_group[\"lr\"] = lr\n",
        "\n",
        "\n",
        "def plot_examples(low_res_folder, gen):\n",
        "    files = os.listdir(low_res_folder)\n",
        "\n",
        "    gen.eval()\n",
        "    for file in files:\n",
        "        image = Image.open(\"/content/drive/MyDrive/test_images/\" + file)\n",
        "        with torch.no_grad():\n",
        "            upscaled_img = gen(\n",
        "                test_transform(image=np.asarray(image))[\"image\"]\n",
        "                .unsqueeze(0)\n",
        "                .to(DEVICE)\n",
        "            )\n",
        "        save_image((upscaled_img * 0.5 + 0.5), f\"/content/drive/MyDrive/saved/{file}\")\n",
        "    gen.train()\n"
      ],
      "metadata": {
        "execution": {
          "iopub.status.busy": "2024-05-28T15:25:00.110905Z",
          "iopub.execute_input": "2024-05-28T15:25:00.111208Z",
          "iopub.status.idle": "2024-05-28T15:25:00.124418Z",
          "shell.execute_reply.started": "2024-05-28T15:25:00.111182Z",
          "shell.execute_reply": "2024-05-28T15:25:00.123526Z"
        },
        "trusted": true,
        "id": "ofpukFhDA98I"
      },
      "execution_count": 14,
      "outputs": []
    },
    {
      "cell_type": "code",
      "source": [
        "import os\n",
        "import numpy as np\n",
        "from torch.utils.data import Dataset, DataLoader\n",
        "from PIL import Image\n",
        "\n",
        "\n",
        "class MyImageFolder(Dataset):\n",
        "    def __init__(self, root_dir):\n",
        "        super(MyImageFolder, self).__init__()\n",
        "        self.data = []\n",
        "        self.root_dir = root_dir\n",
        "        self.class_names = os.listdir(root_dir)\n",
        "\n",
        "        for index, name in enumerate(self.class_names):\n",
        "            files = os.listdir(os.path.join(root_dir, name))\n",
        "            self.data += list(zip(files, [index] * len(files)))\n",
        "\n",
        "    def __len__(self):\n",
        "        return len(self.data)\n",
        "\n",
        "    def __getitem__(self, index):\n",
        "        img_file, label = self.data[index]\n",
        "        root_and_dir = os.path.join(self.root_dir, self.class_names[label])\n",
        "\n",
        "        image = np.array(Image.open(os.path.join(root_and_dir, img_file)))\n",
        "        image = both_transforms(image=image)[\"image\"]\n",
        "        high_res = highres_transform(image=image)[\"image\"]\n",
        "        low_res = lowres_transform(image=image)[\"image\"]\n",
        "        return low_res, high_res\n",
        "\n",
        "\n",
        "def test():\n",
        "    dataset = MyImageFolder(root_dir='/content/drive/MyDrive/new_data/')\n",
        "    loader = DataLoader(dataset, batch_size=16, num_workers=4)\n",
        "\n",
        "    for low_res, high_res in loader:\n",
        "        print(low_res.shape)\n",
        "        print(high_res.shape)\n",
        "\n",
        "\n",
        "\n"
      ],
      "metadata": {
        "execution": {
          "iopub.status.busy": "2024-05-28T15:25:05.308053Z",
          "iopub.execute_input": "2024-05-28T15:25:05.308865Z",
          "iopub.status.idle": "2024-05-28T15:25:05.510188Z",
          "shell.execute_reply.started": "2024-05-28T15:25:05.308834Z",
          "shell.execute_reply": "2024-05-28T15:25:05.508963Z"
        },
        "trusted": true,
        "id": "4sutrZ1jA98I"
      },
      "execution_count": 15,
      "outputs": []
    },
    {
      "cell_type": "code",
      "source": [
        "import torch.nn as nn\n",
        "from torchvision.models import vgg19\n",
        "\n",
        "\n",
        "class VGGLoss(nn.Module):\n",
        "    def __init__(self):\n",
        "        super().__init__()\n",
        "        self.vgg = vgg19(pretrained=True).features[:36].eval().to(DEVICE)\n",
        "        self.loss = nn.MSELoss()\n",
        "\n",
        "        for param in self.vgg.parameters():\n",
        "            param.require_grad = False\n",
        "\n",
        "    def forward(self, input, target):\n",
        "        vgg_input_features = self.vgg(input)\n",
        "        vgg_target_features = self.vgg(target)\n",
        "        return self.loss(vgg_input_features, vgg_target_features)\n"
      ],
      "metadata": {
        "execution": {
          "iopub.status.busy": "2024-05-28T15:25:05.716290Z",
          "iopub.execute_input": "2024-05-28T15:25:05.716716Z",
          "iopub.status.idle": "2024-05-28T15:25:05.725132Z",
          "shell.execute_reply.started": "2024-05-28T15:25:05.716679Z",
          "shell.execute_reply": "2024-05-28T15:25:05.723888Z"
        },
        "trusted": true,
        "id": "LODOpv78A98I"
      },
      "execution_count": 16,
      "outputs": []
    },
    {
      "cell_type": "code",
      "source": [
        "torch. cuda. empty_cache()"
      ],
      "metadata": {
        "id": "56auG2KEHkRL"
      },
      "execution_count": 17,
      "outputs": []
    },
    {
      "cell_type": "code",
      "source": [
        "import torch\n",
        "from torch import nn\n",
        "from torch import optim\n",
        "from torch.utils.data import DataLoader\n",
        "from tqdm import tqdm\n",
        "\n",
        "torch.backends.cudnn.benchmark = True\n",
        "\n",
        "\n",
        "def train_fn(loader, disc, gen, opt_gen, opt_disc, mse, bce, vgg_loss):\n",
        "    loop = tqdm(loader, leave=True)\n",
        "\n",
        "    for idx, (low_res, high_res) in enumerate(loop):\n",
        "        high_res = high_res.to(DEVICE)\n",
        "        low_res = low_res.to(DEVICE)\n",
        "\n",
        "        # Train Discriminator: max log(D(x)) + log(1 - D(G(z)))\n",
        "        fake = gen(low_res)\n",
        "        disc_real = disc(high_res)\n",
        "        disc_fake = disc(fake.detach())\n",
        "        disc_loss_real = bce(\n",
        "            disc_real, torch.ones_like(\n",
        "                disc_real) - 0.1 * torch.rand_like(disc_real)\n",
        "        )\n",
        "        disc_loss_fake = bce(disc_fake, torch.zeros_like(disc_fake))\n",
        "        loss_disc = disc_loss_fake + disc_loss_real\n",
        "\n",
        "        opt_disc.zero_grad()\n",
        "        loss_disc.backward()\n",
        "        opt_disc.step()\n",
        "\n",
        "        # Train Generator: min log(1 - D(G(z))) <-> max log(D(G(z))\n",
        "        disc_fake = disc(fake)\n",
        "        # l2_loss = mse(fake, high_res)\n",
        "        adversarial_loss = 1e-3 * bce(disc_fake, torch.ones_like(disc_fake))\n",
        "        loss_for_vgg = 0.006 * vgg_loss(fake, high_res)\n",
        "        gen_loss = loss_for_vgg + adversarial_loss\n",
        "\n",
        "        opt_gen.zero_grad()\n",
        "        gen_loss.backward()\n",
        "        opt_gen.step()\n",
        "\n",
        "        if idx % 200 == 0:\n",
        "            plot_examples(\"/content/drive/MyDrive/test_images/\", gen)\n",
        "\n",
        "\n",
        "def main():\n",
        "    dataset = MyImageFolder(root_dir=\"/content/drive/MyDrive/new_data/\")\n",
        "    loader = DataLoader(\n",
        "        dataset,\n",
        "        batch_size=BATCH_SIZE,\n",
        "        shuffle=True,\n",
        "        pin_memory=True,\n",
        "        num_workers=NUM_WORKERS,\n",
        "    )\n",
        "    gen = Generator(in_channels=3).to(DEVICE)\n",
        "    disc = Discriminator(in_channels=3).to(DEVICE)\n",
        "    opt_gen = optim.Adam(\n",
        "        gen.parameters(), lr=LEARNING_RATE, betas=(0.9, 0.999))\n",
        "    opt_disc = optim.Adam(\n",
        "        disc.parameters(), lr=LEARNING_RATE, betas=(0.9, 0.999))\n",
        "    mse = nn.MSELoss()\n",
        "    bce = nn.BCEWithLogitsLoss()\n",
        "    vgg_loss = VGGLoss()\n",
        "\n",
        "    if LOAD_MODEL:\n",
        "        load_checkpoint(\n",
        "            CHECKPOINT_GEN,\n",
        "            gen,\n",
        "            opt_gen,\n",
        "            LEARNING_RATE,\n",
        "        )\n",
        "        load_checkpoint(\n",
        "            CHECKPOINT_DISC, disc, opt_disc, LEARNING_RATE,\n",
        "        )\n",
        "\n",
        "    for epoch in range(NUM_EPOCHS):\n",
        "        train_fn(loader, disc, gen, opt_gen, opt_disc, mse, bce, vgg_loss)\n",
        "\n",
        "        if SAVE_MODEL:\n",
        "            save_checkpoint(gen, opt_gen, filename=CHECKPOINT_GEN)\n",
        "            save_checkpoint(disc, opt_disc, filename=CHECKPOINT_DISC)\n",
        "\n",
        "\n",
        "if __name__ == \"__main__\":\n",
        "    main()\n"
      ],
      "metadata": {
        "execution": {
          "iopub.status.busy": "2024-05-28T15:25:06.464740Z",
          "iopub.execute_input": "2024-05-28T15:25:06.465355Z",
          "iopub.status.idle": "2024-05-28T16:11:57.335038Z",
          "shell.execute_reply.started": "2024-05-28T15:25:06.465323Z",
          "shell.execute_reply": "2024-05-28T16:11:57.333736Z"
        },
        "trusted": true,
        "colab": {
          "base_uri": "https://localhost:8080/"
        },
        "id": "7lTVPqi5A98J",
        "outputId": "bd4acb12-df81-488a-b4c6-40190715781c"
      },
      "execution_count": null,
      "outputs": [
        {
          "metadata": {
            "tags": null
          },
          "name": "stderr",
          "output_type": "stream",
          "text": [
            "/usr/local/lib/python3.10/dist-packages/torchvision/models/_utils.py:208: UserWarning: The parameter 'pretrained' is deprecated since 0.13 and may be removed in the future, please use 'weights' instead.\n",
            "  warnings.warn(\n",
            "/usr/local/lib/python3.10/dist-packages/torchvision/models/_utils.py:223: UserWarning: Arguments other than a weight enum or `None` for 'weights' are deprecated since 0.13 and may be removed in the future. The current behavior is equivalent to passing `weights=VGG19_Weights.IMAGENET1K_V1`. You can also use `weights=VGG19_Weights.DEFAULT` to get the most up-to-date weights.\n",
            "  warnings.warn(msg)\n"
          ]
        },
        {
          "metadata": {
            "tags": null
          },
          "name": "stdout",
          "output_type": "stream",
          "text": [
            "=> Loading checkpoint\n",
            "=> Loading checkpoint\n"
          ]
        },
        {
          "metadata": {
            "tags": null
          },
          "name": "stderr",
          "output_type": "stream",
          "text": [
            "100%|██████████| 225/225 [09:55<00:00,  2.64s/it]\n"
          ]
        },
        {
          "metadata": {
            "tags": null
          },
          "name": "stdout",
          "output_type": "stream",
          "text": [
            "=> Saving checkpoint\n",
            "=> Saving checkpoint\n"
          ]
        },
        {
          "metadata": {
            "tags": null
          },
          "name": "stderr",
          "output_type": "stream",
          "text": [
            "100%|██████████| 225/225 [09:53<00:00,  2.64s/it]\n"
          ]
        },
        {
          "metadata": {
            "tags": null
          },
          "name": "stdout",
          "output_type": "stream",
          "text": [
            "=> Saving checkpoint\n",
            "=> Saving checkpoint\n"
          ]
        },
        {
          "metadata": {
            "tags": null
          },
          "name": "stderr",
          "output_type": "stream",
          "text": [
            "100%|██████████| 225/225 [09:52<00:00,  2.63s/it]\n"
          ]
        },
        {
          "metadata": {
            "tags": null
          },
          "name": "stdout",
          "output_type": "stream",
          "text": [
            "=> Saving checkpoint\n",
            "=> Saving checkpoint\n"
          ]
        },
        {
          "metadata": {
            "tags": null
          },
          "name": "stderr",
          "output_type": "stream",
          "text": [
            "100%|██████████| 225/225 [09:54<00:00,  2.64s/it]\n"
          ]
        },
        {
          "metadata": {
            "tags": null
          },
          "name": "stdout",
          "output_type": "stream",
          "text": [
            "=> Saving checkpoint\n",
            "=> Saving checkpoint\n"
          ]
        },
        {
          "metadata": {
            "tags": null
          },
          "name": "stderr",
          "output_type": "stream",
          "text": [
            "100%|██████████| 225/225 [09:53<00:00,  2.64s/it]\n"
          ]
        },
        {
          "metadata": {
            "tags": null
          },
          "name": "stdout",
          "output_type": "stream",
          "text": [
            "=> Saving checkpoint\n",
            "=> Saving checkpoint\n"
          ]
        },
        {
          "metadata": {
            "tags": null
          },
          "name": "stderr",
          "output_type": "stream",
          "text": [
            "100%|██████████| 225/225 [09:52<00:00,  2.63s/it]\n"
          ]
        },
        {
          "metadata": {
            "tags": null
          },
          "name": "stdout",
          "output_type": "stream",
          "text": [
            "=> Saving checkpoint\n",
            "=> Saving checkpoint\n"
          ]
        },
        {
          "metadata": {
            "tags": null
          },
          "name": "stderr",
          "output_type": "stream",
          "text": [
            "100%|██████████| 225/225 [09:53<00:00,  2.64s/it]\n"
          ]
        },
        {
          "metadata": {
            "tags": null
          },
          "name": "stdout",
          "output_type": "stream",
          "text": [
            "=> Saving checkpoint\n",
            "=> Saving checkpoint\n"
          ]
        },
        {
          "metadata": {
            "tags": null
          },
          "name": "stderr",
          "output_type": "stream",
          "text": [
            "100%|██████████| 225/225 [09:52<00:00,  2.63s/it]\n"
          ]
        },
        {
          "metadata": {
            "tags": null
          },
          "name": "stdout",
          "output_type": "stream",
          "text": [
            "=> Saving checkpoint\n",
            "=> Saving checkpoint\n"
          ]
        },
        {
          "metadata": {
            "tags": null
          },
          "name": "stderr",
          "output_type": "stream",
          "text": [
            "100%|██████████| 225/225 [09:51<00:00,  2.63s/it]\n"
          ]
        },
        {
          "metadata": {
            "tags": null
          },
          "name": "stdout",
          "output_type": "stream",
          "text": [
            "=> Saving checkpoint\n",
            "=> Saving checkpoint\n"
          ]
        },
        {
          "metadata": {
            "tags": null
          },
          "name": "stderr",
          "output_type": "stream",
          "text": [
            "100%|██████████| 225/225 [09:53<00:00,  2.64s/it]\n"
          ]
        },
        {
          "metadata": {
            "tags": null
          },
          "name": "stdout",
          "output_type": "stream",
          "text": [
            "=> Saving checkpoint\n",
            "=> Saving checkpoint\n"
          ]
        },
        {
          "output_type": "stream",
          "name": "stderr",
          "text": [
            "100%|██████████| 225/225 [09:52<00:00,  2.63s/it]\n"
          ]
        },
        {
          "output_type": "stream",
          "name": "stdout",
          "text": [
            "=> Saving checkpoint\n",
            "=> Saving checkpoint\n"
          ]
        },
        {
          "output_type": "stream",
          "name": "stderr",
          "text": [
            " 79%|███████▉  | 178/225 [07:48<02:02,  2.61s/it]"
          ]
        }
      ]
    },
    {
      "cell_type": "code",
      "source": [],
      "metadata": {
        "id": "Jz-MG5g4A98J"
      },
      "execution_count": null,
      "outputs": []
    }
  ]
}